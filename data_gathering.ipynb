{
 "cells": [
  {
   "cell_type": "code",
   "execution_count": 1,
   "id": "03a573f9",
   "metadata": {},
   "outputs": [
    {
     "name": "stderr",
     "output_type": "stream",
     "text": [
      "/Library/Frameworks/Python.framework/Versions/3.11/lib/python3.11/site-packages/spacy/util.py:922: UserWarning: [W095] Model 'en_core_web_sm' (3.7.1) was trained with spaCy v3.7.2 and may not be 100% compatible with the current version (3.8.7). If you see errors or degraded performance, download a newer compatible model or retrain your custom model with the current spaCy version. For more details and available updates, run: python -m spacy validate\n",
      "  warnings.warn(warn_msg)\n"
     ]
    }
   ],
   "source": [
    "import os\n",
    "from google.cloud import storage, bigquery\n",
    "from datasets import load_dataset\n",
    "from transformers import LongformerTokenizer, LongformerForSequenceClassification\n",
    "import torch\n",
    "import numpy as np\n",
    "import pandas as pd\n",
    "import json\n",
    "import re\n",
    "from sklearn.model_selection import train_test_split\n",
    "from collections import Counter\n",
    "import contractions\n",
    "import spacy\n",
    "nlp = spacy.load(\"en_core_web_sm\")\n",
    "\n",
    "'''\n",
    "### 2 Data Sources & Labelling \n",
    "\n",
    "| Dataset           | Fetch snippet                                        | What you’ll learn        |\n",
    "| ----------------- | ---------------------------------------------------- | ------------------------ |\n",
    "| CUAD v2       | `datasets.load_dataset(\"theatticusproject/cuad\")`    | Clause-level annotations |\n",
    "| LEDGAR-Top100 | `datasets.load_dataset(\"lex_glue\", \"ledgar_top100\")` | Para-level labels        |\n",
    "| ContractNLI   | `datasets.load_dataset(\"contract_nli\")`              | Evidence mining triples  |\n",
    "\n",
    "*Task*\n",
    "\n",
    "1. Download ⇒ store raw JSON in `data/raw/`.\n",
    "2. Map detailed labels → 3 umbrellas: `IP`, `Privacy`, `Compliance`.\n",
    "3. Add weak labels with regex (`GDPR`, `royalty-free`, `PCI-DSS`).\n",
    "4. Split `train/val/test` (80/10/10) and save to `data/splits/`.\n",
    "\n",
    "*Algorithms touched* – weak supervision, label taxonomy design.'''\n",
    "\n",
    "import logging\n",
    "logging.getLogger(\"presidio-analyzer\").setLevel(logging.ERROR)"
   ]
  },
  {
   "cell_type": "code",
   "execution_count": 4,
   "id": "727c3f56",
   "metadata": {},
   "outputs": [],
   "source": [
    "def label_check(text):\n",
    "    categories = []\n",
    "    if re.search(r'Intellectual Property|Patent Rights|License', text, re.I):\n",
    "        categories.append('IP')\n",
    "    if re.search(r'Confidentiality|Data Protection|GDPR', text, re.I):\n",
    "        categories.append('Privacy')\n",
    "    if re.search(r'PCI-DSS|Anti-bribery|Export Control', text, re.I):\n",
    "        categories.append('Compliance')\n",
    "\n",
    "    if len(categories) == 0:\n",
    "        return {text: 'Uncategorized'}\n",
    "    elif len(categories) == 1:\n",
    "        return {text: categories[0]}\n",
    "    else:\n",
    "        return {text: 'Multiple'}\n",
    "\n",
    "    "
   ]
  },
  {
   "cell_type": "code",
   "execution_count": 5,
   "id": "b9c155d1",
   "metadata": {},
   "outputs": [
    {
     "name": "stdout",
     "output_type": "stream",
     "text": [
      "Version:  aok_v1.0\n",
      "Size of the CUAD dataset:  13823\n",
      "Size of the CUAD dataset after removing duplicates:  11683\n"
     ]
    },
    {
     "data": {
      "text/plain": [
       "Counter({'Uncategorized': 9898, 'IP': 1700, 'Privacy': 60, 'Multiple': 25})"
      ]
     },
     "execution_count": 5,
     "metadata": {},
     "output_type": "execute_result"
    }
   ],
   "source": [
    "\n",
    "\n",
    "# CUAD v2  \n",
    "f = open('CUAD_v1.json', 'r')\n",
    "file_c = json.load(f)\n",
    "print('Version: ',file_c['version'])\n",
    "cuad = file_c['data']\n",
    "\n",
    "cuad_text = []\n",
    "for i in cuad:\n",
    "    path_c1 = i['paragraphs'][0]['qas']\n",
    "    for j in path_c1:\n",
    "        if len(j['answers']) != 0:\n",
    "            for k in j['answers']:\n",
    "                cuad_text.append(k['text'])\n",
    "\n",
    "print('Size of the CUAD dataset: ', len(cuad_text))\n",
    "\n",
    "cuad_text = list(set(cuad_text))\n",
    "print('Size of the CUAD dataset after removing duplicates: ', len(cuad_text))\n",
    "\n",
    "raw_dict = []\n",
    "raw_data = []\n",
    "label_count = []\n",
    "for sentence in cuad_text:\n",
    "    label = label_check(sentence)\n",
    "    label_count.append(list(label.values())[0])\n",
    "    raw_data.append(list(label.keys())[0])\n",
    "    raw_dict.append(label)\n",
    "\n",
    "Counter(label_count)"
   ]
  },
  {
   "cell_type": "code",
   "execution_count": 6,
   "id": "47c9409e",
   "metadata": {},
   "outputs": [
    {
     "name": "stdout",
     "output_type": "stream",
     "text": [
      "Size of the LEDGAR dataset:  80000\n",
      "Size of the LEDGAR dataset after removing duplicates:  80000\n"
     ]
    },
    {
     "data": {
      "text/plain": [
       "Counter({'Uncategorized': 76353,\n",
       "         'IP': 2175,\n",
       "         'Privacy': 1282,\n",
       "         'Multiple': 176,\n",
       "         'Compliance': 14})"
      ]
     },
     "execution_count": 6,
     "metadata": {},
     "output_type": "execute_result"
    }
   ],
   "source": [
    "# LEDGAR-Top100\n",
    "lex_glue = load_dataset('sevrokhamis/lex_glue_ledgar')\n",
    "lex_glue_train = lex_glue['train']\n",
    "lex_glue_val = lex_glue['validation']\n",
    "lex_glue_test = lex_glue['test']\n",
    "\n",
    "ledger_text = []\n",
    "for i in lex_glue_train:\n",
    "    ledger_text.append(i['text'])\n",
    "for i in lex_glue_val:\n",
    "    ledger_text.append(i['text'])\n",
    "for i in lex_glue_test:\n",
    "    ledger_text.append(i['text'])\n",
    "\n",
    "print('Size of the LEDGAR dataset: ', len(ledger_text))\n",
    "ledger_text = list(set(ledger_text))\n",
    "print('Size of the LEDGAR dataset after removing duplicates: ', len(ledger_text))\n",
    "\n",
    "label_count = []\n",
    "for sentence in ledger_text:\n",
    "    label = label_check(sentence)\n",
    "    label_count.append(list(label.values())[0])\n",
    "    raw_data.append(list(label.keys())[0])\n",
    "    raw_dict.append(label)\n",
    "\n",
    "Counter(label_count)"
   ]
  },
  {
   "cell_type": "code",
   "execution_count": 7,
   "id": "50e4e68e",
   "metadata": {},
   "outputs": [
    {
     "name": "stdout",
     "output_type": "stream",
     "text": [
      "Size of the ContractNLI dataset:  20638\n",
      "Size of the ContractNLI dataset after removing duplicates:  623\n"
     ]
    },
    {
     "data": {
      "text/plain": [
       "Counter({'Multiple': 332,\n",
       "         'Privacy': 177,\n",
       "         'Uncategorized': 66,\n",
       "         'IP': 47,\n",
       "         'Compliance': 1})"
      ]
     },
     "execution_count": 7,
     "metadata": {},
     "output_type": "execute_result"
    }
   ],
   "source": [
    "# ContractNLI\n",
    "contract_nli = load_dataset('presencesw/contract-nli')\n",
    "contract_nli_train = contract_nli['train']\n",
    "contract_nli_val = contract_nli['dev']\n",
    "contract_nli_test = contract_nli['test']\n",
    "\n",
    "contract_nli_text = []\n",
    "for row in contract_nli_train:\n",
    "    contract_nli_text.append(row['sentence1'])\n",
    "    contract_nli_text.append(row['sentence2'])\n",
    "\n",
    "for row in contract_nli_val:\n",
    "    contract_nli_text.append(row['sentence1'])\n",
    "    contract_nli_text.append(row['sentence2'])\n",
    "\n",
    "for row in contract_nli_test:\n",
    "    contract_nli_text.append(row['sentence1'])\n",
    "    contract_nli_text.append(row['sentence2'])\n",
    "\n",
    "print('Size of the ContractNLI dataset: ', len(contract_nli_text))\n",
    "contract_nli_text = list(set(contract_nli_text))\n",
    "print('Size of the ContractNLI dataset after removing duplicates: ', len(contract_nli_text))\n",
    "\n",
    "label_count = []\n",
    "for sentence in contract_nli_text:\n",
    "    label = label_check(sentence)\n",
    "    label_count.append(list(label.values())[0])\n",
    "    raw_data.append(list(label.keys())[0])\n",
    "    raw_dict.append(label)\n",
    "\n",
    "Counter(label_count)"
   ]
  },
  {
   "cell_type": "code",
   "execution_count": 8,
   "id": "523b3a68",
   "metadata": {},
   "outputs": [
    {
     "name": "stdout",
     "output_type": "stream",
     "text": [
      "Length of useful sentences:  5989\n"
     ]
    }
   ],
   "source": [
    "label_counter =[list(label.values())[0] for label in raw_dict ]\n",
    "co = dict(Counter(label_counter))\n",
    "print('Length of useful sentences: ',sum(list(co.values())[1:]))"
   ]
  },
  {
   "cell_type": "code",
   "execution_count": 9,
   "id": "fe96d54c",
   "metadata": {},
   "outputs": [
    {
     "name": "stdout",
     "output_type": "stream",
     "text": [
      "Total number of sentences:  92306\n"
     ]
    }
   ],
   "source": [
    "print('Total number of sentences: ', len(raw_data))"
   ]
  },
  {
   "cell_type": "markdown",
   "id": "bd18f744",
   "metadata": {},
   "source": [
    "### Rechecking the raw_dict to pull more sentences by doing mininal processing the text"
   ]
  },
  {
   "cell_type": "code",
   "execution_count": 10,
   "id": "277f2108",
   "metadata": {},
   "outputs": [],
   "source": [
    "\n",
    "def data_cleaning_retrieval(sentence):\n",
    "    c_sentence = ''\n",
    "    for i in sentence.split(' '):\n",
    "        i = i.lower()\n",
    "        i = contractions.fix(i)\n",
    "        i = re.sub(r'[^a-zA-Z\\s]', '',i)\n",
    "        i = re.sub(r'\\s+', ' ', i).strip()\n",
    "        c_sentence = ' '.join([ c_sentence,i])\n",
    "\n",
    "    doc = nlp(c_sentence)\n",
    "    c_sentence = ''\n",
    "    for j in doc:\n",
    "        c_sentence = ' '.join([c_sentence,j.lemma_]).strip()\n",
    "    return c_sentence.strip()\n",
    "\n",
    "\n",
    "sens_words = 'Intellectual Property Patent Rights License Confidentiality Data Protection GDPR PCI-DSS Anti-bribery Export Control'\n",
    "sens_words = data_cleaning_retrieval(sens_words)\n",
    "\n",
    "def label_checker(text):\n",
    "    categories = []\n",
    "    if re.search(r'intellectual|patent right|license', text, re.I):\n",
    "        categories.append('IP')\n",
    "    if re.search(r'confidentiality|protection|gdpr', text, re.I):\n",
    "        categories.append('Privacy')\n",
    "    if re.search(r'pcidss|antibribery|export control', text, re.I):\n",
    "        categories.append('Compliance')\n",
    "\n",
    "    if len(categories) == 0:\n",
    "        return {text: 'Uncategorized'}\n",
    "    elif len(categories) == 1:\n",
    "        return {text: categories[0]}\n",
    "    else:\n",
    "        return {text: 'Multiple'}"
   ]
  },
  {
   "cell_type": "code",
   "execution_count": 11,
   "id": "72456617",
   "metadata": {},
   "outputs": [],
   "source": [
    "data_dic = {}\n",
    "for i in  raw_data:\n",
    "    i = data_cleaning_retrieval(i)\n",
    "    c = label_checker(i)\n",
    "    data_dic[list(c.keys())[0]] = list(c.values())[0]"
   ]
  },
  {
   "cell_type": "code",
   "execution_count": 12,
   "id": "859ef9d4",
   "metadata": {},
   "outputs": [
    {
     "name": "stdout",
     "output_type": "stream",
     "text": [
      "Label counts after the data cleaning:  {'Uncategorized': 81621, 'IP': 3775, 'Privacy': 1862, 'Multiple': 587, 'Compliance': 12}\n",
      "Length of useful data:  6236\n"
     ]
    }
   ],
   "source": [
    "co_co = dict(Counter(data_dic.values()))\n",
    "print('Label counts after the data cleaning: ', co_co)\n",
    "print('Length of useful data: ',sum(list(co_co.values())[1:]))"
   ]
  },
  {
   "cell_type": "code",
   "execution_count": 13,
   "id": "395055dd",
   "metadata": {},
   "outputs": [],
   "source": [
    "c= 0\n",
    "text_data = []\n",
    "risk_data = []\n",
    "for k,v in data_dic.items():\n",
    "    if v != 'Uncategorized' and v != 'Multiple':\n",
    "        text_data.append(k)\n",
    "        risk_data.append(v)"
   ]
  },
  {
   "cell_type": "code",
   "execution_count": 14,
   "id": "86164a4d",
   "metadata": {},
   "outputs": [
    {
     "data": {
      "text/html": [
       "<div>\n",
       "<style scoped>\n",
       "    .dataframe tbody tr th:only-of-type {\n",
       "        vertical-align: middle;\n",
       "    }\n",
       "\n",
       "    .dataframe tbody tr th {\n",
       "        vertical-align: top;\n",
       "    }\n",
       "\n",
       "    .dataframe thead th {\n",
       "        text-align: right;\n",
       "    }\n",
       "</style>\n",
       "<table border=\"1\" class=\"dataframe\">\n",
       "  <thead>\n",
       "    <tr style=\"text-align: right;\">\n",
       "      <th></th>\n",
       "      <th>text</th>\n",
       "      <th>risk</th>\n",
       "    </tr>\n",
       "  </thead>\n",
       "  <tbody>\n",
       "    <tr>\n",
       "      <th>0</th>\n",
       "      <td>no third party have the right to sublicense an...</td>\n",
       "      <td>IP</td>\n",
       "    </tr>\n",
       "    <tr>\n",
       "      <th>1</th>\n",
       "      <td>in addition licensee shall pay to bioeq the fo...</td>\n",
       "      <td>IP</td>\n",
       "    </tr>\n",
       "    <tr>\n",
       "      <th>2</th>\n",
       "      <td>the forego license shall be sublicensable thro...</td>\n",
       "      <td>IP</td>\n",
       "    </tr>\n",
       "    <tr>\n",
       "      <th>3</th>\n",
       "      <td>develop manufacture or commercialize the produ...</td>\n",
       "      <td>IP</td>\n",
       "    </tr>\n",
       "    <tr>\n",
       "      <th>4</th>\n",
       "      <td>this agreement be bind upon and shall inure to...</td>\n",
       "      <td>IP</td>\n",
       "    </tr>\n",
       "    <tr>\n",
       "      <th>...</th>\n",
       "      <td>...</td>\n",
       "      <td>...</td>\n",
       "    </tr>\n",
       "    <tr>\n",
       "      <th>5644</th>\n",
       "      <td>noncircumvention and nondisclosure agreement t...</td>\n",
       "      <td>Privacy</td>\n",
       "    </tr>\n",
       "    <tr>\n",
       "      <th>5645</th>\n",
       "      <td>pl berry associates ltd patent attorney p o bo...</td>\n",
       "      <td>Privacy</td>\n",
       "    </tr>\n",
       "    <tr>\n",
       "      <th>5646</th>\n",
       "      <td>confidentiality agreement nondisclosure agreem...</td>\n",
       "      <td>Privacy</td>\n",
       "    </tr>\n",
       "    <tr>\n",
       "      <th>5647</th>\n",
       "      <td>logo teleservice resource teleservice resource...</td>\n",
       "      <td>IP</td>\n",
       "    </tr>\n",
       "    <tr>\n",
       "      <th>5648</th>\n",
       "      <td>nondisclosureconfidentiality agreement this ag...</td>\n",
       "      <td>Privacy</td>\n",
       "    </tr>\n",
       "  </tbody>\n",
       "</table>\n",
       "<p>5649 rows × 2 columns</p>\n",
       "</div>"
      ],
      "text/plain": [
       "                                                   text     risk\n",
       "0     no third party have the right to sublicense an...       IP\n",
       "1     in addition licensee shall pay to bioeq the fo...       IP\n",
       "2     the forego license shall be sublicensable thro...       IP\n",
       "3     develop manufacture or commercialize the produ...       IP\n",
       "4     this agreement be bind upon and shall inure to...       IP\n",
       "...                                                 ...      ...\n",
       "5644  noncircumvention and nondisclosure agreement t...  Privacy\n",
       "5645  pl berry associates ltd patent attorney p o bo...  Privacy\n",
       "5646  confidentiality agreement nondisclosure agreem...  Privacy\n",
       "5647  logo teleservice resource teleservice resource...       IP\n",
       "5648  nondisclosureconfidentiality agreement this ag...  Privacy\n",
       "\n",
       "[5649 rows x 2 columns]"
      ]
     },
     "execution_count": 14,
     "metadata": {},
     "output_type": "execute_result"
    }
   ],
   "source": [
    "df = pd.DataFrame({'text': text_data, 'risk': risk_data})\n",
    "df"
   ]
  },
  {
   "cell_type": "code",
   "execution_count": 15,
   "id": "d0e42b92",
   "metadata": {},
   "outputs": [],
   "source": [
    "df.to_csv('cleaned_contract_data.csv', index=False)"
   ]
  },
  {
   "cell_type": "code",
   "execution_count": null,
   "id": "631b72a5",
   "metadata": {},
   "outputs": [],
   "source": []
  }
 ],
 "metadata": {
  "kernelspec": {
   "display_name": "Python 3",
   "language": "python",
   "name": "python3"
  },
  "language_info": {
   "codemirror_mode": {
    "name": "ipython",
    "version": 3
   },
   "file_extension": ".py",
   "mimetype": "text/x-python",
   "name": "python",
   "nbconvert_exporter": "python",
   "pygments_lexer": "ipython3",
   "version": "3.11.6"
  }
 },
 "nbformat": 4,
 "nbformat_minor": 5
}
